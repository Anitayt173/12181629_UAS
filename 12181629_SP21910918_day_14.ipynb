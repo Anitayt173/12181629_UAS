{
 "cells": [
  {
   "cell_type": "code",
   "execution_count": null,
   "metadata": {},
   "outputs": [],
   "source": [
    "// 1. Buatlah aplikasi dalam pemrograman Java untuk menyatukan data (combine) dari dua file\n",
    "// dengan format berbeda yang terlampir (attachment terkompres) dalam sebuah dataframe."
   ]
  },
  {
   "cell_type": "code",
   "execution_count": 2,
   "metadata": {},
   "outputs": [
    {
     "data": {
      "application/vnd.jupyter.widget-view+json": {
       "model_id": "",
       "version_major": 2,
       "version_minor": 0
      },
      "method": "display_data"
     },
     "metadata": {},
     "output_type": "display_data"
    },
    {
     "data": {
      "application/vnd.jupyter.widget-view+json": {
       "model_id": "de5f2da3-17a3-4d4c-bbea-c30a06c4c4cd",
       "version_major": 2,
       "version_minor": 0
      },
      "method": "display_data"
     },
     "metadata": {},
     "output_type": "display_data"
    }
   ],
   "source": [
    "//Load Library\n",
    "%%classpath add mvn\n",
    "tech.tablesaw tablesaw-beakerx 0.35.0\n",
    "com.jimmoores quandl-tablesaw 2.0.0\n",
    "com.github.haifengl smile-core 1.5.2\n",
    "tech.tablesaw tablesaw-excel 0.35.0\n",
    "tech.tablesaw tablesaw-json 0.35.0\n",
    "org.xerial sqlite-jdbc 3.28.0\n",
    "org.jsoup jsoup 1.11.3"
   ]
  },
  {
   "cell_type": "code",
   "execution_count": 3,
   "metadata": {},
   "outputs": [
    {
     "data": {
      "text/plain": [
       "null"
      ]
     },
     "execution_count": 3,
     "metadata": {},
     "output_type": "execute_result"
    }
   ],
   "source": [
    "%import static tech.tablesaw.aggregate.AggregateFunctions.*\n",
    "%import tech.tablesaw.api.*\n",
    "%import tech.tablesaw.columns.*\n",
    "%import smile.clustering.*\n",
    "%import smile.regression.*\n",
    "\n",
    "// display Tablesaw tables with BeakerX table display widget\n",
    "tech.tablesaw.beakerx.TablesawDisplayer.register();"
   ]
  },
  {
   "cell_type": "code",
   "execution_count": 12,
   "metadata": {
    "scrolled": true
   },
   "outputs": [
    {
     "name": "stdout",
     "output_type": "stream",
     "text": [
      "                                                          12181629.xlsx                                                           \n",

      " _id   |  idx |                   Var                                               |  vervar     |turtan|  tahun  | nilai  |\n",
      "----------------------------------------------------------------------------------------------------------------------------------\n",
      " 148  |  147  |  Curah Hujan pada Stasiun Meteorologi Benteng di Kepulauan Selayar  | Hari Hujan  |  mei |   2006  |  7     |\n",
      " 149  |  148  |  Curah Hujan pada Stasiun Meteorologi Benteng di Kepulauan Selayar  | Hari Hujan  | juni |   2006  |  10    |\n",
      " 150  |  149  |  Curah Hujan pada Stasiun Meteorologi Benteng di Kepulauan Selayar  | Hari Hujan  | juli |   2006  |  3     |\n",
      " 151  |  150  |  Curah Hujan pada Stasiun Meteorologi Benteng di Kepulauan Selayar  | Hari Hujan  | agts |   2006  |  0     |\n",
      " 152  |  151  |  Curah Hujan pada Stasiun Meteorologi Benteng di Kepulauan Selayar  | Hari Hujan  | sptm |   2006  |  0     |\n",
      " 153  |  152  |  Curah Hujan pada Stasiun Meteorologi Benteng di Kepulauan Selayar  | Hari Hujan  | okto |   2006  |  0     |\n",
      " 154  |  153  |  Curah Hujan pada Stasiun Meteorologi Benteng di Kepulauan Selayar  | Hari Hujan  | nov  |   2006  |  21    |\n",
      " 155  |  154  |  Curah Hujan pada Stasiun Meteorologi Benteng di Kepulauan Selayar  | Hari Hujan  | des  |   2006  |  0     |\n",
      " 156  |  155  |  Curah Hujan pada Stasiun Meteorologi Benteng di Kepulauan Selayar  | Hari Hujan  | thun |   2007  |  0     |\n",
      " 157  |  156  |  Curah Hujan pada Stasiun Meteorologi Benteng di Kepulauan Selayar  | Hari Hujan  | jan  |   2007  |  0     |\n",
      "  ...  |   ...  |                                        ...  |           ...  |                    ...  |    ...  |   ...  |\n",
      " 158  |  157  |  Curah Hujan pada Stasiun Meteorologi Benteng di Kepulauan Selayar  | Hari Hujan  | feb  |   2007  |  9     |\n",
      " 159  |  158  |  Curah Hujan pada Stasiun Meteorologi Benteng di Kepulauan Selayar  | Hari Hujan  | mart |   2007  |  98    |\n",
      " 160  |  159  |  Curah Hujan pada Stasiun Meteorologi Benteng di Kepulauan Selayar  | Hari Hujan  | aprl |   2007  |  8     |\n",
      " 161  |  160  |  Curah Hujan pada Stasiun Meteorologi Benteng di Kepulauan Selayar  | Hari Hujan  | mei  |   2007  |  9     |\n",
      " 162  |  161  |  Curah Hujan pada Stasiun Meteorologi Benteng di Kepulauan Selayar  | Hari Hujan  | juni |   2008  |  6     |\n",
      " 163  |  162  |  Curah Hujan pada Stasiun Meteorologi Benteng di Kepulauan Selayar  | Hari Hujan  | juli |   2008  |  0     |\n",
      " 164  |  163  |  Curah Hujan pada Stasiun Meteorologi Benteng di Kepulauan Selayar  | Hari Hujan  | agts |   2008  |  0     |\n",
      " 165  |  164  |  Curah Hujan pada Stasiun Meteorologi Benteng di Kepulauan Selayar  | Hari Hujan  | sept |   2008  |  8     |\n",
      " 166  |  165  |  Curah Hujan pada Stasiun Meteorologi Benteng di Kepulauan Selayar  | Hari Hujan  | oktp |   2008  |  6     |\n",
      " 167  |  166  |  Curah Hujan pada Stasiun Meteorologi Benteng di Kepulauan Selayar  | Hari Hujan  | nov  |   2008  |  0     |\n",
      "                                                                             12181629.xlsx summary                                                                             \n",
      " Count [nilai]  |  Sum [nilai]  |  Max [nilai]  |  Min [nilai]  |    Mean [nilai]     |  Range [nilai]  |  Median [nilai]  |   Variance [nilai]    |  Std. Deviation [nilai]  |\n",
      "-------------------------------------------------------------------------------------------------------------------------------------------------------------------------------\n",
      "           147  |  58721000000  |  10320000000  |      1000000  |  506215517.2413792  |    10319000000  |       176500000  |  1435347735757121020  |      1198059988.3800147  |\n"
     ]
    },
    {
     "data": {
      "text/plain": [
       "null"
      ]
     },
     "execution_count": 12,
     "metadata": {},
     "output_type": "execute_result"
    }
   ],
   "source": [
    "import static tech.tablesaw.aggregate.AggregateFunctions.*;\n",
    "\n",
    "import tech.tablesaw.api.*;\n",
    "import tech.tablesaw.io.xlsx.*;\n",
    "\n",
    "tech.tablesaw.beakerx.TablesawDisplayer.register();\n",
    "\n",
    "XlsxReader reader = new XlsxReader();\n",
    "\n",
    "Table data2 = Table.read().csv(\"12181631/12181631.csv\");\n",
    "\n",
    "XlsxReadOptions file1 = XlsxReadOptions.builder(\"12181631/12181631.xlsx\").build();\n",
    "\n",
    "Table data1 = reader.read(file1);\n",
    "\n",
    "Table datagabung = data1.append(data2);\n",
    "\n",
    "System.out.println(datagabung.print()); \n",
    "\n",
    "System.out.println(datagabung.summarize(\"nilai\", count, sum, max, min, mean, range, median, variance, standardDeviation).apply());"
   ]
  },
  {
   "cell_type": "code",
   "execution_count": null,
   "metadata": {},
   "outputs": [],
   "source": [
    "\n",
    "1. ada 116 data\n",
    "2. total nilai 58721000000\n",
    "3. max nilai 10320000000\n",
    "4. min nilai 1000000\n",
    "5. rata-rata mean 506215517.2413792\n",
    "6. Nilai tengah dari nilai yaitu 176500000\n",
    "7. Nilai variasi yaitu  1435347735757121020\n",
    "8. Nilai dari standar deviasi yaitu 1198059988.3800147 "
   ]
  },
  {
   "cell_type": "code",
   "execution_count": null,
   "metadata": {},
   "outputs": [],
   "source": [
    "\n",
    "import static tech.tablesaw.aggregate.AggregateFunctions.*;\n",
    "\n",
    "import tech.tablesaw.api.*;\n",
    "import tech.tablesaw.io.xlsx.*;\n",
    "\n",
    "tech.tablesaw.beakerx.TablesawDisplayer.register();\n",
    "\n",
    "XlsxReader reader = new XlsxReader();\n",
    "\n",
    "Table data2 = Table.read().csv(\"12181631/12181631.csv\");\n",
    "\n",
    "XlsxReadOptions file1 = XlsxReadOptions.builder(\"12181631/12181631.xlsx\").build();\n",
    "\n",
    "Table data1 = reader.read(file1);\n",
    "\n",
    "Table datagabung = data2.append(data1);"
   ]
  }
 ],
 "metadata": {
  "kernelspec": {
   "display_name": "Java",
   "language": "java",
   "name": "java"
  },
  "language_info": {
   "codemirror_mode": "text/x-java",
   "file_extension": ".java",
   "mimetype": "",
   "name": "Java",
   "nbconverter_exporter": "",
   "version": "1.8.0_121"
  },
  "toc": {
   "base_numbering": 1,
   "nav_menu": {},
   "number_sections": false,
   "sideBar": false,
   "skip_h1_title": false,
   "title_cell": "Table of Contents",
   "title_sidebar": "Contents",
   "toc_cell": false,
   "toc_position": {},
   "toc_section_display": false,
   "toc_window_display": false
  }
 },
 "nbformat": 4,
 "nbformat_minor": 2
}
